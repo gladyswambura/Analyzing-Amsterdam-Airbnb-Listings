{
 "cells": [
  {
   "cell_type": "markdown",
   "id": "dcba0972",
   "metadata": {
    "papermill": {
     "duration": 0.003712,
     "end_time": "2024-03-03T19:36:40.774034",
     "exception": false,
     "start_time": "2024-03-03T19:36:40.770322",
     "status": "completed"
    },
    "tags": []
   },
   "source": [
    "**Objective:** To analyze and visualize the Amsterdam Airbnb listings dataset using Pandas, handling missing values, performing descriptive statistics, and creating informative visualizations."
   ]
  },
  {
   "cell_type": "code",
   "execution_count": 1,
   "id": "71c4f4bc",
   "metadata": {
    "_cell_guid": "b1076dfc-b9ad-4769-8c92-a6c4dae69d19",
    "_uuid": "8f2839f25d086af736a60e9eeb907d3b93b6e0e5",
    "execution": {
     "iopub.execute_input": "2024-03-03T19:36:40.782603Z",
     "iopub.status.busy": "2024-03-03T19:36:40.781826Z",
     "iopub.status.idle": "2024-03-03T19:36:42.985623Z",
     "shell.execute_reply": "2024-03-03T19:36:42.984587Z"
    },
    "papermill": {
     "duration": 2.21028,
     "end_time": "2024-03-03T19:36:42.987669",
     "exception": false,
     "start_time": "2024-03-03T19:36:40.777389",
     "status": "completed"
    },
    "tags": []
   },
   "outputs": [
    {
     "name": "stdout",
     "output_type": "stream",
     "text": [
      "/kaggle/input/amsterdam-airbnb-listings/listings.csv\n"
     ]
    }
   ],
   "source": [
    "# This Python 3 environment comes with many helpful analytics libraries installed\n",
    "# It is defined by the kaggle/python Docker image: https://github.com/kaggle/docker-python\n",
    "# For example, here's several helpful packages to load\n",
    "\n",
    "import numpy as np # linear algebra\n",
    "import pandas as pd # data processing, CSV file I/O (e.g. pd.read_csv)\n",
    "import matplotlib.pyplot as plt\n",
    "import seaborn as sns\n",
    "import warnings\n",
    "\n",
    "\n",
    "# Input data files are available in the read-only \"../input/\" directory\n",
    "# For example, running this (by clicking run or pressing Shift+Enter) will list all files under the input directory\n",
    "\n",
    "import os\n",
    "for dirname, _, filenames in os.walk('/kaggle/input/amsterdam-airbnb-listings'):\n",
    "    for filename in filenames:\n",
    "        print(os.path.join(dirname, filename))\n",
    "\n",
    "# You can write up to 20GB to the current directory (/kaggle/working/) that gets preserved as output when you create a version using \"Save & Run All\" \n",
    "# You can also write temporary files to /kaggle/temp/, but they won't be saved outside of the current session"
   ]
  },
  {
   "cell_type": "code",
   "execution_count": 2,
   "id": "124fffac",
   "metadata": {
    "execution": {
     "iopub.execute_input": "2024-03-03T19:36:42.996872Z",
     "iopub.status.busy": "2024-03-03T19:36:42.996361Z",
     "iopub.status.idle": "2024-03-03T19:36:43.037121Z",
     "shell.execute_reply": "2024-03-03T19:36:43.035864Z"
    },
    "papermill": {
     "duration": 0.048152,
     "end_time": "2024-03-03T19:36:43.039601",
     "exception": false,
     "start_time": "2024-03-03T19:36:42.991449",
     "status": "completed"
    },
    "tags": []
   },
   "outputs": [
    {
     "data": {
      "text/html": [
       "<div>\n",
       "<style scoped>\n",
       "    .dataframe tbody tr th:only-of-type {\n",
       "        vertical-align: middle;\n",
       "    }\n",
       "\n",
       "    .dataframe tbody tr th {\n",
       "        vertical-align: top;\n",
       "    }\n",
       "\n",
       "    .dataframe thead th {\n",
       "        text-align: right;\n",
       "    }\n",
       "</style>\n",
       "<table border=\"1\" class=\"dataframe\">\n",
       "  <thead>\n",
       "    <tr style=\"text-align: right;\">\n",
       "      <th></th>\n",
       "      <th>id</th>\n",
       "      <th>name</th>\n",
       "      <th>host_id</th>\n",
       "      <th>host_name</th>\n",
       "      <th>neighbourhood_group</th>\n",
       "      <th>neighbourhood</th>\n",
       "      <th>latitude</th>\n",
       "      <th>longitude</th>\n",
       "      <th>room_type</th>\n",
       "      <th>price</th>\n",
       "      <th>minimum_nights</th>\n",
       "      <th>number_of_reviews</th>\n",
       "      <th>last_review</th>\n",
       "      <th>reviews_per_month</th>\n",
       "      <th>calculated_host_listings_count</th>\n",
       "      <th>availability_365</th>\n",
       "      <th>number_of_reviews_ltm</th>\n",
       "      <th>license</th>\n",
       "    </tr>\n",
       "  </thead>\n",
       "  <tbody>\n",
       "    <tr>\n",
       "      <th>0</th>\n",
       "      <td>1489424</td>\n",
       "      <td>Home in Albany · ★4.74 · 1 bedroom · 1 bed · 1...</td>\n",
       "      <td>5294164</td>\n",
       "      <td>Efrat</td>\n",
       "      <td>NaN</td>\n",
       "      <td>FOURTEENTH WARD</td>\n",
       "      <td>42.66719</td>\n",
       "      <td>-73.81580</td>\n",
       "      <td>Private room</td>\n",
       "      <td>50.0</td>\n",
       "      <td>1</td>\n",
       "      <td>239</td>\n",
       "      <td>2023-12-08</td>\n",
       "      <td>1.90</td>\n",
       "      <td>1</td>\n",
       "      <td>201</td>\n",
       "      <td>47</td>\n",
       "      <td>NaN</td>\n",
       "    </tr>\n",
       "    <tr>\n",
       "      <th>1</th>\n",
       "      <td>2992450</td>\n",
       "      <td>Rental unit in Albany · ★3.56 · 2 bedrooms · 2...</td>\n",
       "      <td>4621559</td>\n",
       "      <td>Kenneth</td>\n",
       "      <td>NaN</td>\n",
       "      <td>THIRD WARD</td>\n",
       "      <td>42.65789</td>\n",
       "      <td>-73.75370</td>\n",
       "      <td>Entire home/apt</td>\n",
       "      <td>70.0</td>\n",
       "      <td>28</td>\n",
       "      <td>9</td>\n",
       "      <td>2022-08-17</td>\n",
       "      <td>0.08</td>\n",
       "      <td>1</td>\n",
       "      <td>365</td>\n",
       "      <td>0</td>\n",
       "      <td>NaN</td>\n",
       "    </tr>\n",
       "    <tr>\n",
       "      <th>2</th>\n",
       "      <td>3820211</td>\n",
       "      <td>Rental unit in Albany · ★4.74 · 1 bedroom · 1 ...</td>\n",
       "      <td>19648678</td>\n",
       "      <td>Terra</td>\n",
       "      <td>NaN</td>\n",
       "      <td>SIXTH WARD</td>\n",
       "      <td>42.65222</td>\n",
       "      <td>-73.76724</td>\n",
       "      <td>Entire home/apt</td>\n",
       "      <td>125.0</td>\n",
       "      <td>2</td>\n",
       "      <td>291</td>\n",
       "      <td>2023-11-19</td>\n",
       "      <td>2.54</td>\n",
       "      <td>10</td>\n",
       "      <td>361</td>\n",
       "      <td>8</td>\n",
       "      <td>NaN</td>\n",
       "    </tr>\n",
       "    <tr>\n",
       "      <th>3</th>\n",
       "      <td>5651579</td>\n",
       "      <td>Rental unit in Albany · ★4.51 · Studio · 1 bed...</td>\n",
       "      <td>29288920</td>\n",
       "      <td>Gregg</td>\n",
       "      <td>NaN</td>\n",
       "      <td>SECOND WARD</td>\n",
       "      <td>42.64615</td>\n",
       "      <td>-73.75966</td>\n",
       "      <td>Entire home/apt</td>\n",
       "      <td>68.0</td>\n",
       "      <td>2</td>\n",
       "      <td>332</td>\n",
       "      <td>2023-11-12</td>\n",
       "      <td>3.15</td>\n",
       "      <td>3</td>\n",
       "      <td>138</td>\n",
       "      <td>28</td>\n",
       "      <td>NaN</td>\n",
       "    </tr>\n",
       "    <tr>\n",
       "      <th>4</th>\n",
       "      <td>6623339</td>\n",
       "      <td>Rental unit in Albany · ★4.73 · 1 bedroom · 1 ...</td>\n",
       "      <td>19648678</td>\n",
       "      <td>Terra</td>\n",
       "      <td>NaN</td>\n",
       "      <td>SIXTH WARD</td>\n",
       "      <td>42.65222</td>\n",
       "      <td>-73.76724</td>\n",
       "      <td>Entire home/apt</td>\n",
       "      <td>140.0</td>\n",
       "      <td>1</td>\n",
       "      <td>305</td>\n",
       "      <td>2023-12-10</td>\n",
       "      <td>2.92</td>\n",
       "      <td>10</td>\n",
       "      <td>0</td>\n",
       "      <td>4</td>\n",
       "      <td>NaN</td>\n",
       "    </tr>\n",
       "  </tbody>\n",
       "</table>\n",
       "</div>"
      ],
      "text/plain": [
       "        id                                               name   host_id  \\\n",
       "0  1489424  Home in Albany · ★4.74 · 1 bedroom · 1 bed · 1...   5294164   \n",
       "1  2992450  Rental unit in Albany · ★3.56 · 2 bedrooms · 2...   4621559   \n",
       "2  3820211  Rental unit in Albany · ★4.74 · 1 bedroom · 1 ...  19648678   \n",
       "3  5651579  Rental unit in Albany · ★4.51 · Studio · 1 bed...  29288920   \n",
       "4  6623339  Rental unit in Albany · ★4.73 · 1 bedroom · 1 ...  19648678   \n",
       "\n",
       "  host_name  neighbourhood_group    neighbourhood  latitude  longitude  \\\n",
       "0     Efrat                  NaN  FOURTEENTH WARD  42.66719  -73.81580   \n",
       "1   Kenneth                  NaN       THIRD WARD  42.65789  -73.75370   \n",
       "2     Terra                  NaN       SIXTH WARD  42.65222  -73.76724   \n",
       "3     Gregg                  NaN      SECOND WARD  42.64615  -73.75966   \n",
       "4     Terra                  NaN       SIXTH WARD  42.65222  -73.76724   \n",
       "\n",
       "         room_type  price  minimum_nights  number_of_reviews last_review  \\\n",
       "0     Private room   50.0               1                239  2023-12-08   \n",
       "1  Entire home/apt   70.0              28                  9  2022-08-17   \n",
       "2  Entire home/apt  125.0               2                291  2023-11-19   \n",
       "3  Entire home/apt   68.0               2                332  2023-11-12   \n",
       "4  Entire home/apt  140.0               1                305  2023-12-10   \n",
       "\n",
       "   reviews_per_month  calculated_host_listings_count  availability_365  \\\n",
       "0               1.90                               1               201   \n",
       "1               0.08                               1               365   \n",
       "2               2.54                              10               361   \n",
       "3               3.15                               3               138   \n",
       "4               2.92                              10                 0   \n",
       "\n",
       "   number_of_reviews_ltm  license  \n",
       "0                     47      NaN  \n",
       "1                      0      NaN  \n",
       "2                      8      NaN  \n",
       "3                     28      NaN  \n",
       "4                      4      NaN  "
      ]
     },
     "execution_count": 2,
     "metadata": {},
     "output_type": "execute_result"
    }
   ],
   "source": [
    "# Assign the DataFrame to the variable \n",
    "df = pd.read_csv(os.path.join('/kaggle/input/amsterdam-airbnb-listings', filename))\n",
    "df.head(5)"
   ]
  },
  {
   "cell_type": "code",
   "execution_count": 3,
   "id": "1403a684",
   "metadata": {
    "execution": {
     "iopub.execute_input": "2024-03-03T19:36:43.048556Z",
     "iopub.status.busy": "2024-03-03T19:36:43.048223Z",
     "iopub.status.idle": "2024-03-03T19:36:43.054852Z",
     "shell.execute_reply": "2024-03-03T19:36:43.053830Z"
    },
    "papermill": {
     "duration": 0.013489,
     "end_time": "2024-03-03T19:36:43.057017",
     "exception": false,
     "start_time": "2024-03-03T19:36:43.043528",
     "status": "completed"
    },
    "tags": []
   },
   "outputs": [
    {
     "data": {
      "text/plain": [
       "Index(['id', 'name', 'host_id', 'host_name', 'neighbourhood_group',\n",
       "       'neighbourhood', 'latitude', 'longitude', 'room_type', 'price',\n",
       "       'minimum_nights', 'number_of_reviews', 'last_review',\n",
       "       'reviews_per_month', 'calculated_host_listings_count',\n",
       "       'availability_365', 'number_of_reviews_ltm', 'license'],\n",
       "      dtype='object')"
      ]
     },
     "execution_count": 3,
     "metadata": {},
     "output_type": "execute_result"
    }
   ],
   "source": [
    "# explore  the column names of the dataset\n",
    "df.columns"
   ]
  },
  {
   "cell_type": "code",
   "execution_count": 4,
   "id": "4297e66f",
   "metadata": {
    "execution": {
     "iopub.execute_input": "2024-03-03T19:36:43.066995Z",
     "iopub.status.busy": "2024-03-03T19:36:43.066662Z",
     "iopub.status.idle": "2024-03-03T19:36:43.092581Z",
     "shell.execute_reply": "2024-03-03T19:36:43.091800Z"
    },
    "papermill": {
     "duration": 0.03332,
     "end_time": "2024-03-03T19:36:43.094792",
     "exception": false,
     "start_time": "2024-03-03T19:36:43.061472",
     "status": "completed"
    },
    "tags": []
   },
   "outputs": [
    {
     "name": "stdout",
     "output_type": "stream",
     "text": [
      "<class 'pandas.core.frame.DataFrame'>\n",
      "RangeIndex: 410 entries, 0 to 409\n",
      "Data columns (total 18 columns):\n",
      " #   Column                          Non-Null Count  Dtype  \n",
      "---  ------                          --------------  -----  \n",
      " 0   id                              410 non-null    int64  \n",
      " 1   name                            410 non-null    object \n",
      " 2   host_id                         410 non-null    int64  \n",
      " 3   host_name                       410 non-null    object \n",
      " 4   neighbourhood_group             0 non-null      float64\n",
      " 5   neighbourhood                   410 non-null    object \n",
      " 6   latitude                        410 non-null    float64\n",
      " 7   longitude                       410 non-null    float64\n",
      " 8   room_type                       410 non-null    object \n",
      " 9   price                           404 non-null    float64\n",
      " 10  minimum_nights                  410 non-null    int64  \n",
      " 11  number_of_reviews               410 non-null    int64  \n",
      " 12  last_review                     361 non-null    object \n",
      " 13  reviews_per_month               361 non-null    float64\n",
      " 14  calculated_host_listings_count  410 non-null    int64  \n",
      " 15  availability_365                410 non-null    int64  \n",
      " 16  number_of_reviews_ltm           410 non-null    int64  \n",
      " 17  license                         0 non-null      float64\n",
      "dtypes: float64(6), int64(7), object(5)\n",
      "memory usage: 57.8+ KB\n",
      "None\n"
     ]
    }
   ],
   "source": [
    "# Get basic information about the data\n",
    "print(df.info())"
   ]
  },
  {
   "cell_type": "code",
   "execution_count": 5,
   "id": "9ba161e1",
   "metadata": {
    "execution": {
     "iopub.execute_input": "2024-03-03T19:36:43.104540Z",
     "iopub.status.busy": "2024-03-03T19:36:43.103977Z",
     "iopub.status.idle": "2024-03-03T19:36:43.133111Z",
     "shell.execute_reply": "2024-03-03T19:36:43.132247Z"
    },
    "papermill": {
     "duration": 0.036323,
     "end_time": "2024-03-03T19:36:43.135180",
     "exception": false,
     "start_time": "2024-03-03T19:36:43.098857",
     "status": "completed"
    },
    "tags": []
   },
   "outputs": [
    {
     "name": "stdout",
     "output_type": "stream",
     "text": [
      "                                count          mean           std  \\\n",
      "id                              410.0  4.865518e+17  4.224464e+17   \n",
      "host_id                         410.0  2.211516e+08  1.813861e+08   \n",
      "neighbourhood_group               0.0           NaN           NaN   \n",
      "latitude                        410.0  4.265764e+01  9.688474e-03   \n",
      "longitude                       410.0 -7.377665e+01  1.935449e-02   \n",
      "price                           404.0  1.229282e+02  1.041410e+02   \n",
      "minimum_nights                  410.0  5.134146e+00  2.147095e+01   \n",
      "number_of_reviews               410.0  5.336341e+01  9.638242e+01   \n",
      "reviews_per_month               361.0  2.051690e+00  2.084601e+00   \n",
      "calculated_host_listings_count  410.0  5.009756e+00  4.802699e+00   \n",
      "availability_365                410.0  2.131585e+02  1.361395e+02   \n",
      "number_of_reviews_ltm           410.0  1.600976e+01  2.218967e+01   \n",
      "license                           0.0           NaN           NaN   \n",
      "\n",
      "                                         min           25%           50%  \\\n",
      "id                              1.489424e+06  4.559817e+07  6.555312e+17   \n",
      "host_id                         6.490680e+05  4.762598e+07  1.770740e+08   \n",
      "neighbourhood_group                      NaN           NaN           NaN   \n",
      "latitude                        4.263066e+01  4.265236e+01  4.265730e+01   \n",
      "longitude                      -7.387649e+01 -7.379013e+01 -7.377354e+01   \n",
      "price                           2.400000e+01  7.500000e+01  1.000000e+02   \n",
      "minimum_nights                  1.000000e+00  1.000000e+00  2.000000e+00   \n",
      "number_of_reviews               0.000000e+00  4.000000e+00  1.600000e+01   \n",
      "reviews_per_month               2.000000e-02  5.300000e-01  1.360000e+00   \n",
      "calculated_host_listings_count  1.000000e+00  1.000000e+00  3.000000e+00   \n",
      "availability_365                0.000000e+00  8.825000e+01  2.515000e+02   \n",
      "number_of_reviews_ltm           0.000000e+00  1.000000e+00  6.000000e+00   \n",
      "license                                  NaN           NaN           NaN   \n",
      "\n",
      "                                         75%           max  \n",
      "id                              8.809967e+17  1.056469e+18  \n",
      "host_id                         3.920749e+08  5.531120e+08  \n",
      "neighbourhood_group                      NaN           NaN  \n",
      "latitude                        4.266171e+01  4.271490e+01  \n",
      "longitude                      -7.376198e+01 -7.373825e+01  \n",
      "price                           1.305000e+02  1.209000e+03  \n",
      "minimum_nights                  3.000000e+00  3.650000e+02  \n",
      "number_of_reviews               5.975000e+01  7.550000e+02  \n",
      "reviews_per_month               2.860000e+00  1.111000e+01  \n",
      "calculated_host_listings_count  8.000000e+00  1.900000e+01  \n",
      "availability_365                3.470000e+02  3.650000e+02  \n",
      "number_of_reviews_ltm           2.300000e+01  1.330000e+02  \n",
      "license                                  NaN           NaN  \n"
     ]
    }
   ],
   "source": [
    "print(df.describe().T)"
   ]
  },
  {
   "cell_type": "code",
   "execution_count": 6,
   "id": "2ff630b6",
   "metadata": {
    "execution": {
     "iopub.execute_input": "2024-03-03T19:36:43.144988Z",
     "iopub.status.busy": "2024-03-03T19:36:43.144656Z",
     "iopub.status.idle": "2024-03-03T19:36:43.151219Z",
     "shell.execute_reply": "2024-03-03T19:36:43.149997Z"
    },
    "papermill": {
     "duration": 0.01394,
     "end_time": "2024-03-03T19:36:43.153227",
     "exception": false,
     "start_time": "2024-03-03T19:36:43.139287",
     "status": "completed"
    },
    "tags": []
   },
   "outputs": [
    {
     "name": "stdout",
     "output_type": "stream",
     "text": [
      "id                                  0\n",
      "name                                0\n",
      "host_id                             0\n",
      "host_name                           0\n",
      "neighbourhood_group               410\n",
      "neighbourhood                       0\n",
      "latitude                            0\n",
      "longitude                           0\n",
      "room_type                           0\n",
      "price                               6\n",
      "minimum_nights                      0\n",
      "number_of_reviews                   0\n",
      "last_review                        49\n",
      "reviews_per_month                  49\n",
      "calculated_host_listings_count      0\n",
      "availability_365                    0\n",
      "number_of_reviews_ltm               0\n",
      "license                           410\n",
      "dtype: int64\n"
     ]
    }
   ],
   "source": [
    "# checking for missing values\n",
    "print(df.isnull().sum())"
   ]
  },
  {
   "cell_type": "code",
   "execution_count": 7,
   "id": "6b649197",
   "metadata": {
    "execution": {
     "iopub.execute_input": "2024-03-03T19:36:43.163024Z",
     "iopub.status.busy": "2024-03-03T19:36:43.162155Z",
     "iopub.status.idle": "2024-03-03T19:36:43.169717Z",
     "shell.execute_reply": "2024-03-03T19:36:43.168687Z"
    },
    "papermill": {
     "duration": 0.014755,
     "end_time": "2024-03-03T19:36:43.172029",
     "exception": false,
     "start_time": "2024-03-03T19:36:43.157274",
     "status": "completed"
    },
    "tags": []
   },
   "outputs": [
    {
     "name": "stdout",
     "output_type": "stream",
     "text": [
      "id                                  0\n",
      "host_id                             0\n",
      "neighbourhood_group               410\n",
      "latitude                            0\n",
      "longitude                           0\n",
      "price                               6\n",
      "minimum_nights                      0\n",
      "number_of_reviews                   0\n",
      "reviews_per_month                  49\n",
      "calculated_host_listings_count      0\n",
      "availability_365                    0\n",
      "number_of_reviews_ltm               0\n",
      "license                           410\n",
      "dtype: int64\n"
     ]
    }
   ],
   "source": [
    "# Check for missing values in numerical columns\n",
    "numerical_cols = df.select_dtypes(include=['int64', 'float64'])\n",
    "missing_numerical = numerical_cols.isnull().sum()\n",
    "print(missing_numerical)"
   ]
  },
  {
   "cell_type": "code",
   "execution_count": 8,
   "id": "a73ddbfb",
   "metadata": {
    "execution": {
     "iopub.execute_input": "2024-03-03T19:36:43.182093Z",
     "iopub.status.busy": "2024-03-03T19:36:43.181761Z",
     "iopub.status.idle": "2024-03-03T19:36:43.188893Z",
     "shell.execute_reply": "2024-03-03T19:36:43.187764Z"
    },
    "papermill": {
     "duration": 0.014101,
     "end_time": "2024-03-03T19:36:43.190529",
     "exception": false,
     "start_time": "2024-03-03T19:36:43.176428",
     "status": "completed"
    },
    "tags": []
   },
   "outputs": [
    {
     "name": "stdout",
     "output_type": "stream",
     "text": [
      "last_review    49\n",
      "dtype: int64\n"
     ]
    }
   ],
   "source": [
    "# Check for missing values (count)\n",
    "category_missing = df.select_dtypes(include=['object']).isnull().sum()\n",
    "print(category_missing[category_missing > 0])"
   ]
  },
  {
   "cell_type": "code",
   "execution_count": 9,
   "id": "d5eb811f",
   "metadata": {
    "execution": {
     "iopub.execute_input": "2024-03-03T19:36:43.200010Z",
     "iopub.status.busy": "2024-03-03T19:36:43.199533Z",
     "iopub.status.idle": "2024-03-03T19:36:43.210733Z",
     "shell.execute_reply": "2024-03-03T19:36:43.209941Z"
    },
    "papermill": {
     "duration": 0.0181,
     "end_time": "2024-03-03T19:36:43.212784",
     "exception": false,
     "start_time": "2024-03-03T19:36:43.194684",
     "status": "completed"
    },
    "tags": []
   },
   "outputs": [],
   "source": [
    " warnings.simplefilter(\"ignore\")\n",
    "# Impute missing values in numerical columns using median-->consider other methods like mean, mode\n",
    "for col in missing_numerical.index:\n",
    "    df[col] = df[col].fillna(df[col].median())"
   ]
  },
  {
   "cell_type": "code",
   "execution_count": 10,
   "id": "bf615625",
   "metadata": {
    "execution": {
     "iopub.execute_input": "2024-03-03T19:36:43.222977Z",
     "iopub.status.busy": "2024-03-03T19:36:43.222651Z",
     "iopub.status.idle": "2024-03-03T19:36:43.232628Z",
     "shell.execute_reply": "2024-03-03T19:36:43.231662Z"
    },
    "papermill": {
     "duration": 0.017145,
     "end_time": "2024-03-03T19:36:43.234398",
     "exception": false,
     "start_time": "2024-03-03T19:36:43.217253",
     "status": "completed"
    },
    "tags": []
   },
   "outputs": [],
   "source": [
    " warnings.simplefilter(\"ignore\")\n",
    "# Fill missing values in categorical columns with mode (consider other methods like dropping, encoding)\n",
    "category_missing.fillna(category_missing.mode(0), inplace=True)"
   ]
  },
  {
   "cell_type": "code",
   "execution_count": 11,
   "id": "ceedba9c",
   "metadata": {
    "execution": {
     "iopub.execute_input": "2024-03-03T19:36:43.243934Z",
     "iopub.status.busy": "2024-03-03T19:36:43.243597Z",
     "iopub.status.idle": "2024-03-03T19:36:43.250781Z",
     "shell.execute_reply": "2024-03-03T19:36:43.249309Z"
    },
    "papermill": {
     "duration": 0.014535,
     "end_time": "2024-03-03T19:36:43.253095",
     "exception": false,
     "start_time": "2024-03-03T19:36:43.238560",
     "status": "completed"
    },
    "tags": []
   },
   "outputs": [
    {
     "name": "stdout",
     "output_type": "stream",
     "text": [
      "last_review    49\n",
      "dtype: int64\n"
     ]
    }
   ],
   "source": [
    "# Check for missing values (count)\n",
    "cat_missing = df.select_dtypes(include=['object']).isnull().sum()\n",
    "print(cat_missing[cat_missing > 0])"
   ]
  },
  {
   "cell_type": "code",
   "execution_count": 12,
   "id": "519b2119",
   "metadata": {
    "execution": {
     "iopub.execute_input": "2024-03-03T19:36:43.262991Z",
     "iopub.status.busy": "2024-03-03T19:36:43.262655Z",
     "iopub.status.idle": "2024-03-03T19:36:43.268576Z",
     "shell.execute_reply": "2024-03-03T19:36:43.267646Z"
    },
    "papermill": {
     "duration": 0.013161,
     "end_time": "2024-03-03T19:36:43.270707",
     "exception": false,
     "start_time": "2024-03-03T19:36:43.257546",
     "status": "completed"
    },
    "tags": []
   },
   "outputs": [
    {
     "name": "stdout",
     "output_type": "stream",
     "text": [
      "True\n"
     ]
    }
   ],
   "source": [
    "# verify missing values--# Should be 0 if all missing values handled\n",
    "print(df.isnull().sum().any())  "
   ]
  }
 ],
 "metadata": {
  "kaggle": {
   "accelerator": "none",
   "dataSources": [
    {
     "datasetId": 1818188,
     "sourceId": 2965537,
     "sourceType": "datasetVersion"
    },
    {
     "datasetId": 4486994,
     "sourceId": 7688876,
     "sourceType": "datasetVersion"
    }
   ],
   "dockerImageVersionId": 30646,
   "isGpuEnabled": false,
   "isInternetEnabled": true,
   "language": "python",
   "sourceType": "notebook"
  },
  "kernelspec": {
   "display_name": "Python 3",
   "language": "python",
   "name": "python3"
  },
  "language_info": {
   "codemirror_mode": {
    "name": "ipython",
    "version": 3
   },
   "file_extension": ".py",
   "mimetype": "text/x-python",
   "name": "python",
   "nbconvert_exporter": "python",
   "pygments_lexer": "ipython3",
   "version": "3.10.13"
  },
  "papermill": {
   "default_parameters": {},
   "duration": 5.893051,
   "end_time": "2024-03-03T19:36:43.793638",
   "environment_variables": {},
   "exception": null,
   "input_path": "__notebook__.ipynb",
   "output_path": "__notebook__.ipynb",
   "parameters": {},
   "start_time": "2024-03-03T19:36:37.900587",
   "version": "2.5.0"
  }
 },
 "nbformat": 4,
 "nbformat_minor": 5
}
